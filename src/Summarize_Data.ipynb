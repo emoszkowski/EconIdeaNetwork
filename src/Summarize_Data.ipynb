{
 "cells": [
  {
   "cell_type": "code",
   "execution_count": 21,
   "metadata": {
    "collapsed": false
   },
   "outputs": [
    {
     "name": "stdout",
     "output_type": "stream",
     "text": [
      "Couldn't import dot_parser, loading of dot files will not be possible.\n"
     ]
    }
   ],
   "source": [
    "import pandas as pd\n",
    "import numpy as np\n",
    "import networkx as nx"
   ]
  },
  {
   "cell_type": "code",
   "execution_count": 22,
   "metadata": {
    "collapsed": false
   },
   "outputs": [],
   "source": [
    "nber = pd.read_csv('../save/NBER_Paper_Info.csv', delimiter='|')\n",
    "path = '../save/nber.graphml'\n",
    "G = nx.read_graphml(path)"
   ]
  },
  {
   "cell_type": "code",
   "execution_count": 31,
   "metadata": {
    "collapsed": false
   },
   "outputs": [
    {
     "name": "stdout",
     "output_type": "stream",
     "text": [
      "17388 9698\n"
     ]
    }
   ],
   "source": [
    "# Count of Papers, Authors, JEL codes from NBER\n",
    "\n",
    "nPapers = nber.shape[0]\n",
    "nAuthors = len(G.nodes())\n",
    "\n",
    "print nPapers, nAuthors"
   ]
  },
  {
   "cell_type": "code",
   "execution_count": 37,
   "metadata": {
    "collapsed": false
   },
   "outputs": [
    {
     "name": "stdout",
     "output_type": "stream",
     "text": [
      "1.79294699938 2.24010812054 2.36484932137\n"
     ]
    }
   ],
   "source": [
    "# Average Authors per Paper, Papers per Author, JELs per Paper\n",
    "\n",
    "PaperperAuthor = nPapers / float(nAuthors)\n",
    "AuthorperPaper = nber.authors.apply(lambda x: len(x.split(', '))).mean()\n",
    "JELperPaper = nber.jel.apply(lambda x: len(x.split(', '))).mean()\n",
    "\n",
    "print PaperperAuthor, AuthorperPaper, JELperPaper"
   ]
  },
  {
   "cell_type": "code",
   "execution_count": null,
   "metadata": {
    "collapsed": false
   },
   "outputs": [],
   "source": []
  },
  {
   "cell_type": "code",
   "execution_count": null,
   "metadata": {
    "collapsed": false
   },
   "outputs": [],
   "source": []
  },
  {
   "cell_type": "code",
   "execution_count": null,
   "metadata": {
    "collapsed": true
   },
   "outputs": [],
   "source": []
  }
 ],
 "metadata": {
  "kernelspec": {
   "display_name": "Python 2",
   "language": "python",
   "name": "python2"
  },
  "language_info": {
   "codemirror_mode": {
    "name": "ipython",
    "version": 2
   },
   "file_extension": ".py",
   "mimetype": "text/x-python",
   "name": "python",
   "nbconvert_exporter": "python",
   "pygments_lexer": "ipython2",
   "version": "2.7.11"
  }
 },
 "nbformat": 4,
 "nbformat_minor": 0
}
