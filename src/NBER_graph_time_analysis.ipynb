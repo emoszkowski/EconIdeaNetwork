{
 "cells": [
  {
   "cell_type": "code",
   "execution_count": 1,
   "metadata": {
    "collapsed": false
   },
   "outputs": [
    {
     "name": "stdout",
     "output_type": "stream",
     "text": [
      "Couldn't import dot_parser, loading of dot files will not be possible.\n"
     ]
    }
   ],
   "source": [
    "import pandas as pd\n",
    "import networkx as nx\n",
    "import numpy as np\n",
    "import scipy.stats as stats\n",
    "import nltk.metrics as nm\n",
    "import editdistance\n",
    "import re\n",
    "import matplotlib.pyplot as plt\n",
    "execfile(\"utils.py\")\n",
    "%matplotlib inline"
   ]
  },
  {
   "cell_type": "code",
   "execution_count": 22,
   "metadata": {
    "collapsed": false
   },
   "outputs": [],
   "source": [
    "# Load Network with\n",
    "# 1. Authors\n",
    "# 2. Dept as node attr\n",
    "# 3. nPapers as node attr\n",
    "# 4. year/title as edge attr\n",
    "\n",
    "G = nx.read_graphml('../save/nber_departments.graphml')"
   ]
  },
  {
   "cell_type": "code",
   "execution_count": 24,
   "metadata": {
    "collapsed": false
   },
   "outputs": [
    {
     "data": {
      "text/plain": [
       "[]"
      ]
     },
     "execution_count": 24,
     "metadata": {},
     "output_type": "execute_result"
    }
   ],
   "source": [
    "[(u,v,d.keys()) for u,v,d in G.edges_iter(data=True) if 'year' not in d.keys()]\n",
    "#[(u,v,d.keys()) for u,v,d in G.edges_iter(data=True) if 'Stein' in u or 'Stein' in v]"
   ]
  },
  {
   "cell_type": "code",
   "execution_count": 85,
   "metadata": {
    "collapsed": false
   },
   "outputs": [],
   "source": [
    "# Filter on Date Range\n",
    "\n",
    "init = 0\n",
    "end = 2016\n",
    "\n",
    "nodes = G.nodes()\n",
    "edges = G.edges()\n",
    "\n",
    "# Create Subgraph with only edges dated to\n",
    "# the specificed date range\n",
    "def filterDateRange(G, init, end, datevar='year'):\n",
    "    \n",
    "    # Filter Edges for Date Range\n",
    "    G_out = nx.MultiGraph([(u,v,d) for u,v,d in G.edges_iter(data=True) \\\n",
    "                          if d[datevar] >= init and d[datevar] <= end])\n",
    "    \n",
    "    validNodes = G_out.nodes()\n",
    "    \n",
    "    # Copy Over Node Attributes\n",
    "    for attr in ['nPapers', 'dept']:\n",
    "        validNodes = G_out.nodes()\n",
    "        d = nx.get_node_attributes(G, attr)\n",
    "        validAttr = dict([(u,d[u]) for u in d if u in validNodes])\n",
    "        nx.set_node_attributes(G_out, attr, validAttr)\n",
    "\n",
    "    return G_out\n",
    "\n",
    "# Compute number of papers published total (i.e. # of edges) for each author\n",
    "\n",
    "def nPapers(G, author):\n",
    "    return len(set([d['title'] for u,v,d in G.edges_iter(data=True) \\\n",
    "                    if u == author or v == author]))"
   ]
  },
  {
   "cell_type": "code",
   "execution_count": null,
   "metadata": {
    "collapsed": false
   },
   "outputs": [],
   "source": []
  },
  {
   "cell_type": "code",
   "execution_count": 182,
   "metadata": {
    "collapsed": false
   },
   "outputs": [
    {
     "name": "stdout",
     "output_type": "stream",
     "text": [
      "[('ArielPakes', 'GregoryLewis')]\n",
      "(0.09999999999994001, 0.333333333333, 3.333333333332)\n"
     ]
    }
   ],
   "source": [
    "# Develop Success Measure\n",
    "# (n_internal edges to department / n_total papers)\n",
    "\n",
    "# Jeremy stein post 2000\n",
    "author = \"ArielPakes\"\n",
    "moveDate = 1999\n",
    "\n",
    "def computeSuccessMeasure(G, author, moveDate):\n",
    "\n",
    "    acqDept = nx.get_node_attributes(G, 'dept')[author]\n",
    "\n",
    "    # Filter for Post-movedate\n",
    "    G_time = filterDateRange(G, moveDate+1, 9999)\n",
    "\n",
    "    # Sum weights of ALL edges\n",
    "    nEdgesTotal = sum([d['weight'] for u,v,d in G_time.edges(author, data=True)])\n",
    "\n",
    "    # Filter for Acquiering department\n",
    "    acqDeptNodes = [u for u,d in G_time.nodes_iter(data=True) if 'dept' in d.keys() and d['dept'] == acqDept]\n",
    "    G_dept = G_time.subgraph(acqDeptNodes)\n",
    "\n",
    "    # Sum weights of all edges INSIDE acq dept\n",
    "    nEdges = sum([d['weight'] for u,v,d in G_dept.edges(author, data=True)])\n",
    "\n",
    "    # Ratio\n",
    "    measure = nEdges / nEdgesTotal\n",
    "    \n",
    "    return (measure, nEdges, nEdgesTotal)\n",
    "\n",
    "print computeSuccessMeasure(G, author, moveDate)"
   ]
  },
  {
   "cell_type": "code",
   "execution_count": 199,
   "metadata": {
    "collapsed": false
   },
   "outputs": [
    {
     "name": "stdout",
     "output_type": "stream",
     "text": [
      "LauraGiuliano\n",
      "ZhuanPei\n",
      "EthanLewis\n",
      "('UlrikeMalmendier', u'University of California, Berkeley CA')\n",
      "('BrianMcCall', u'University of Michigan, Ann Arbor MI')\n",
      "('PatrickKline', u'University of California, Berkeley CA')\n",
      "JochenKluve\n",
      "JohnReenen\n",
      "PabloIbarraran\n",
      "('RajChetty', u'Harvard University, Cambridge MA')\n",
      "PhilipRobins\n",
      "('StefanoDellaVigna', u'University of California, Berkeley CA')\n",
      "AndreaWeber\n",
      "AndrewHildreth\n",
      "DeanHyslop\n",
      "('EnricoMoretti', u'University of California, Berkeley CA')\n",
      "('OrleyAshenfelter', u'Princeton University, Princeton NJ')\n",
      "PaulineLeung\n",
      "ThomasLemieux\n",
      "FerdinandoRegalia\n",
      "('NicholasBloom', u'Stanford University, Palo Alto CA')\n",
      "StefanieWolter\n",
      "FrancescoDevicienti\n",
      "SaraRica\n",
      "MartinDooley\n",
      "CraigOlson\n",
      "MichaelRansom\n",
      "JohnDiNardo\n",
      "WinstonLin\n",
      "AgataMaida\n",
      "('RebeccaBlank', u'University of Wisconsin, Madison WI')\n",
      "PhillipLevine\n",
      "('DavidLee', u'New York University, New York City NY')\n",
      "('GordonDahl', u'University of California, San Diego CA')\n",
      "CarlosDobkin\n",
      "('DavidCard', u'University of California, Berkeley CA')\n",
      "FrancisKramarz\n",
      "WRiddell\n",
      "('AlanKrueger', u'Princeton University, Princeton NJ')\n",
      "('EmmanuelSaez', u'University of California, Berkeley CA')\n",
      "AbigailPayne\n",
      "AnaCardoso\n",
      "('AlexandreMas', u'Princeton University, Princeton NJ')\n",
      "IanPreston\n",
      "YuriSoares\n",
      "ChristianDustmann\n",
      "AndrewJohnston\n",
      "('LawrenceKatz', u'Harvard University, Cambridge MA')\n",
      "StefanBender\n",
      "LaraShore-Sheppard\n",
      "('JesseRothstein', u'University of California, Berkeley CA')\n",
      "APayne\n",
      "DavidRosas\n",
      "CharlesMichalopoulos\n",
      "NicoleMaestas\n"
     ]
    }
   ],
   "source": [
    "a = 'DavidCard'\n",
    "#a = 'PhilippeAghion'\n",
    "[x for x in G.nodes(data=True) if a in x[0]]\n",
    "\n",
    "([(u,v,d) for u,v,d in G.edges_iter(data=True) if a == u or a == v])\n",
    "\n",
    "co = ([(u,v) for u,v,d in G.edges_iter(data=True) if a == u or a == v])\n",
    "coset = set([c for x in co for c in x])\n",
    "for c in coset:\n",
    "    try:\n",
    "        print (c, nx.get_node_attributes(G, 'dept')[c])\n",
    "    except:\n",
    "        print c"
   ]
  },
  {
   "cell_type": "code",
   "execution_count": 4,
   "metadata": {
    "collapsed": false
   },
   "outputs": [
    {
     "data": {
      "text/plain": [
       "[True, True]"
      ]
     },
     "execution_count": 4,
     "metadata": {},
     "output_type": "execute_result"
    }
   ],
   "source": [
    "#def filterEdge(edge, init, end):\n",
    "#    return nx[edge[0]][edge[1]]\n",
    "\n",
    "e = G[edges[0][0]][edges[0][1]]\n",
    "[e[i]['year'] > 2010 for i in e.keys()]"
   ]
  },
  {
   "cell_type": "code",
   "execution_count": 5,
   "metadata": {
    "collapsed": false
   },
   "outputs": [
    {
     "data": {
      "text/plain": [
       "{0: {'jel': u'D0,D8,G1,G3', 'year': 2012},\n",
       " 1: {'jel': u'D0,D8,G1,G3', 'year': 2012}}"
      ]
     },
     "execution_count": 5,
     "metadata": {},
     "output_type": "execute_result"
    }
   ],
   "source": [
    "edge = edges[0]\n",
    "G[edge[0]][edge[1]]"
   ]
  },
  {
   "cell_type": "code",
   "execution_count": 14,
   "metadata": {
    "collapsed": true
   },
   "outputs": [],
   "source": [
    "red_fish = set(n for u,v,d in G.edges_iter(data=True)\n",
    "               if d['year'] > 2005\n",
    "               for n in (u, v))"
   ]
  },
  {
   "cell_type": "code",
   "execution_count": 20,
   "metadata": {
    "collapsed": false
   },
   "outputs": [
    {
     "data": {
      "text/plain": [
       "<networkx.classes.multigraph.MultiGraph at 0x7effc27f6690>"
      ]
     },
     "execution_count": 20,
     "metadata": {},
     "output_type": "execute_result"
    }
   ],
   "source": [
    "nx.MultiGraph([(u,v,d) for u,v,d in G.edges_iter(data=True) if d['year'] > 2005])"
   ]
  },
  {
   "cell_type": "code",
   "execution_count": 49,
   "metadata": {
    "collapsed": false
   },
   "outputs": [],
   "source": [
    "x = pd.read_csv('../save/NBER_Paper_Info.csv', delimiter='|')"
   ]
  },
  {
   "cell_type": "code",
   "execution_count": 52,
   "metadata": {
    "collapsed": false
   },
   "outputs": [
    {
     "data": {
      "text/plain": [
       "(17728, 2)"
      ]
     },
     "execution_count": 52,
     "metadata": {},
     "output_type": "execute_result"
    }
   ],
   "source": [
    "x[['year','jel']].shape"
   ]
  },
  {
   "cell_type": "code",
   "execution_count": 57,
   "metadata": {
    "collapsed": false
   },
   "outputs": [
    {
     "data": {
      "text/plain": [
       "(17370, 3)"
      ]
     },
     "execution_count": 57,
     "metadata": {},
     "output_type": "execute_result"
    }
   ],
   "source": [
    "x[['authors','year','jel']].drop_duplicates().shape"
   ]
  },
  {
   "cell_type": "code",
   "execution_count": 58,
   "metadata": {
    "collapsed": false
   },
   "outputs": [
    {
     "data": {
      "text/plain": [
       "(17728, 3)"
      ]
     },
     "execution_count": 58,
     "metadata": {},
     "output_type": "execute_result"
    }
   ],
   "source": [
    "x[['authors','year','jel']].shape"
   ]
  },
  {
   "cell_type": "code",
   "execution_count": 59,
   "metadata": {
    "collapsed": false
   },
   "outputs": [
    {
     "data": {
      "text/plain": [
       "<pandas.core.groupby.DataFrameGroupBy object at 0x7effc465f650>"
      ]
     },
     "execution_count": 59,
     "metadata": {},
     "output_type": "execute_result"
    }
   ],
   "source": [
    "x.groupby('authors')"
   ]
  },
  {
   "cell_type": "code",
   "execution_count": null,
   "metadata": {
    "collapsed": true
   },
   "outputs": [],
   "source": []
  }
 ],
 "metadata": {
  "kernelspec": {
   "display_name": "Python 2",
   "language": "python",
   "name": "python2"
  },
  "language_info": {
   "codemirror_mode": {
    "name": "ipython",
    "version": 2
   },
   "file_extension": ".py",
   "mimetype": "text/x-python",
   "name": "python",
   "nbconvert_exporter": "python",
   "pygments_lexer": "ipython2",
   "version": "2.7.11"
  }
 },
 "nbformat": 4,
 "nbformat_minor": 0
}
